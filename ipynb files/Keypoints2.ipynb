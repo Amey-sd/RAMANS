{
 "cells": [
  {
   "cell_type": "code",
   "execution_count": 2,
   "id": "5550c47e-0030-4ff1-b0ae-9d0f0d82250f",
   "metadata": {},
   "outputs": [],
   "source": [
    "import cv2\n",
    "import numpy as np\n",
    "import mediapipe as mp\n",
    "from matplotlib import pyplot as plt"
   ]
  },
  {
   "cell_type": "code",
   "execution_count": 3,
   "id": "5e22d846-4260-4fdf-9be2-7681fbca62cc",
   "metadata": {},
   "outputs": [],
   "source": [
    "# Keypoints using MP Holistic\n",
    "mp_holistic = mp.solutions.holistic  # Holistic model\n",
    "mp_drawing = mp.solutions.drawing_utils  # Drawing utilities"
   ]
  },
  {
   "cell_type": "code",
   "execution_count": 4,
   "id": "8031168a-0417-4284-932d-926d8295fff3",
   "metadata": {},
   "outputs": [],
   "source": [
    "# Function to perform mediapipe detection\n",
    "def mediapipe_detection(image, model):\n",
    "    image = cv2.cvtColor(image, cv2.COLOR_BGR2RGB)  # BGR to RGB\n",
    "    image.flags.writeable = False  # No longer writable\n",
    "    results = model.process(image)  # Make prediction\n",
    "    image.flags.writeable = True  # Writable again\n",
    "    image = cv2.cvtColor(image, cv2.COLOR_RGB2BGR)  # RGB to BGR\n",
    "    return image, results"
   ]
  },
  {
   "cell_type": "code",
   "execution_count": 5,
   "id": "379749e2-7df6-43af-ba53-54c7f30ca234",
   "metadata": {},
   "outputs": [],
   "source": [
    "# Function to draw landmarks with styles\n",
    "def draw_styled_landmarks(image, results):\n",
    "    # Draw face landmarks\n",
    "    mp_drawing.draw_landmarks(\n",
    "        image, results.face_landmarks, mp_holistic.FACEMESH_CONTOURS,\n",
    "        mp_drawing.DrawingSpec(color=(80, 110, 10), thickness=1, circle_radius=1),\n",
    "        mp_drawing.DrawingSpec(color=(80, 256, 121), thickness=1, circle_radius=1))\n",
    "    \n",
    "    # Draw pose landmarks\n",
    "    mp_drawing.draw_landmarks(\n",
    "        image, results.pose_landmarks, mp_holistic.POSE_CONNECTIONS,\n",
    "        mp_drawing.DrawingSpec(color=(80, 22, 10), thickness=2, circle_radius=4),\n",
    "        mp_drawing.DrawingSpec(color=(80, 44, 121), thickness=2, circle_radius=2))\n",
    "    \n",
    "    # Draw left hand landmarks\n",
    "    mp_drawing.draw_landmarks(\n",
    "        image, results.left_hand_landmarks, mp_holistic.HAND_CONNECTIONS,\n",
    "        mp_drawing.DrawingSpec(color=(121, 22, 76), thickness=2, circle_radius=4),\n",
    "        mp_drawing.DrawingSpec(color=(121, 44, 250), thickness=2, circle_radius=2))\n",
    "    \n",
    "    # Draw right hand landmarks\n",
    "    mp_drawing.draw_landmarks(\n",
    "        image, results.right_hand_landmarks, mp_holistic.HAND_CONNECTIONS,\n",
    "        mp_drawing.DrawingSpec(color=(245, 117, 66), thickness=2, circle_radius=4),\n",
    "        mp_drawing.DrawingSpec(color=(245, 66, 230), thickness=2, circle_radius=2))\n",
    "    \n",
    "    return image"
   ]
  },
  {
   "cell_type": "code",
   "execution_count": 16,
   "id": "10c169e7-0f9e-4fb4-bf23-f411310ae536",
   "metadata": {},
   "outputs": [],
   "source": [
    "# Path to your video file\n",
    "video_path = 'D:/kcmpdxky7p-1/ISL_CSLRT_Corpus/ISL_CSLRT_Corpus/Videos_Sentence_Level/are you free today/free (2).MP4'"
   ]
  },
  {
   "cell_type": "code",
   "execution_count": 22,
   "id": "b2849419-c4e7-464f-8b03-9a2dd79db685",
   "metadata": {},
   "outputs": [],
   "source": [
    "# Open the video file\n",
    "cap = cv2.VideoCapture(video_path)"
   ]
  },
  {
   "cell_type": "code",
   "execution_count": 25,
   "id": "d09ded30-65aa-4ea9-ae98-196ce1034c60",
   "metadata": {},
   "outputs": [
    {
     "name": "stdout",
     "output_type": "stream",
     "text": [
      "End of video\n"
     ]
    }
   ],
   "source": [
    "# Path to your video file\n",
    "video_path = r'D:\\kcmpdxky7p-1\\ISL_CSLRT_Corpus\\ISL_CSLRT_Corpus\\Videos_Sentence_Level\\are you free today\\free (2).MP4'# Open the video file\n",
    "cap = cv2.VideoCapture(video_path)\n",
    "if not cap.isOpened():\n",
    "    print(f\"Error: Couldn't open video file: {video_path}\")\n",
    "else:\n",
    "    # Set up Mediapipe model\n",
    "    with mp_holistic.Holistic(min_detection_confidence=0.5, min_tracking_confidence=0.5) as holistic:\n",
    "        while cap.isOpened():\n",
    "            # Read each frame from the video\n",
    "            ret, frame = cap.read()\n",
    "            if not ret:\n",
    "                print(\"End of video\")\n",
    "                break\n",
    "\n",
    "            # Perform detection\n",
    "            image, results = mediapipe_detection(frame, holistic)\n",
    "            \n",
    "            # Draw landmarks on the frame\n",
    "            image = draw_styled_landmarks(image, results)\n",
    "\n",
    "            # Display the frame with landmarks\n",
    "            cv2.imshow('Processed Video', image)\n",
    "\n",
    "            # Break loop when 'q' is pressed\n",
    "            if cv2.waitKey(10) & 0xFF == ord('q'):\n",
    "                break\n",
    "\n",
    "    # Release video capture and close windows\n",
    "    cap.release()\n",
    "    cv2.destroyAllWindows()"
   ]
  }
 ],
 "metadata": {
  "kernelspec": {
   "display_name": "sih",
   "language": "python",
   "name": "sih"
  },
  "language_info": {
   "codemirror_mode": {
    "name": "ipython",
    "version": 3
   },
   "file_extension": ".py",
   "mimetype": "text/x-python",
   "name": "python",
   "nbconvert_exporter": "python",
   "pygments_lexer": "ipython3",
   "version": "3.8.19"
  }
 },
 "nbformat": 4,
 "nbformat_minor": 5
}
